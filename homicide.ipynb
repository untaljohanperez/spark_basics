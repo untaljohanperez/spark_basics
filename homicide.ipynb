{
 "cells": [
  {
   "cell_type": "code",
   "execution_count": 15,
   "metadata": {},
   "outputs": [],
   "source": [
    "from pyspark.sql import SparkSession\n",
    "\n",
    "from pyspark.sql import functions as F\n",
    "from pyspark.sql.functions import isnan, when, count, col, udf\n",
    "from pyspark.sql.types import IntegerType\n",
    "from pyspark.sql.window import Window\n",
    "\n",
    "import sys\n",
    "\n",
    "spark = SparkSession.builder.appName(\"Homicide Report\").getOrCreate()\n",
    "sc = spark.sparkContext\n",
    "outputDir = \"./output\""
   ]
  },
  {
   "cell_type": "code",
   "execution_count": 3,
   "metadata": {},
   "outputs": [],
   "source": [
    "# https://www.kaggle.com/murderaccountability/homicide-reports/data\n",
    "df = spark.read.csv(\"./database.csv\", header=True)"
   ]
  },
  {
   "cell_type": "code",
   "execution_count": 4,
   "metadata": {},
   "outputs": [],
   "source": [
    "from functools import reduce\n",
    "columnsRenamed = [ (c, c.replace(\" \", \"\")) for c in df.columns]\n",
    "df = reduce(lambda df, c: df.withColumnRenamed(c[0], c[1]), columnsRenamed, df)"
   ]
  },
  {
   "cell_type": "code",
   "execution_count": 5,
   "metadata": {},
   "outputs": [
    {
     "name": "stdout",
     "output_type": "stream",
     "text": [
      "root\n",
      " |-- RecordID: string (nullable = true)\n",
      " |-- AgencyCode: string (nullable = true)\n",
      " |-- AgencyName: string (nullable = true)\n",
      " |-- AgencyType: string (nullable = true)\n",
      " |-- City: string (nullable = true)\n",
      " |-- State: string (nullable = true)\n",
      " |-- Year: string (nullable = true)\n",
      " |-- Month: string (nullable = true)\n",
      " |-- Incident: string (nullable = true)\n",
      " |-- CrimeType: string (nullable = true)\n",
      " |-- CrimeSolved: string (nullable = true)\n",
      " |-- VictimSex: string (nullable = true)\n",
      " |-- VictimAge: string (nullable = true)\n",
      " |-- VictimRace: string (nullable = true)\n",
      " |-- VictimEthnicity: string (nullable = true)\n",
      " |-- PerpetratorSex: string (nullable = true)\n",
      " |-- PerpetratorAge: string (nullable = true)\n",
      " |-- PerpetratorRace: string (nullable = true)\n",
      " |-- PerpetratorEthnicity: string (nullable = true)\n",
      " |-- Relationship: string (nullable = true)\n",
      " |-- Weapon: string (nullable = true)\n",
      " |-- VictimCount: string (nullable = true)\n",
      " |-- PerpetratorCount: string (nullable = true)\n",
      " |-- RecordSource: string (nullable = true)\n",
      "\n"
     ]
    },
    {
     "data": {
      "text/plain": [
       "Row(RecordID='000001', AgencyCode='AK00101', AgencyName='Anchorage', AgencyType='Municipal Police', City='Anchorage', State='Alaska', Year='1980', Month='January', Incident='1', CrimeType='Murder or Manslaughter', CrimeSolved='Yes', VictimSex='Male', VictimAge='14', VictimRace='Native American/Alaska Native', VictimEthnicity='Unknown', PerpetratorSex='Male', PerpetratorAge='15', PerpetratorRace='Native American/Alaska Native', PerpetratorEthnicity='Unknown', Relationship='Acquaintance', Weapon='Blunt Object', VictimCount='0', PerpetratorCount='0', RecordSource='FBI')"
      ]
     },
     "execution_count": 5,
     "metadata": {},
     "output_type": "execute_result"
    }
   ],
   "source": [
    "df.printSchema()\n",
    "df.head()"
   ]
  },
  {
   "cell_type": "code",
   "execution_count": 5,
   "metadata": {},
   "outputs": [
    {
     "name": "stdout",
     "output_type": "stream",
     "text": [
      "+--------+----------+----------+----------+----+-----+----+-----+--------+---------+-----------+---------+---------+----------+---------------+--------------+--------------+---------------+--------------------+------------+------+-----------+----------------+------------+\n",
      "|RecordID|AgencyCode|AgencyName|AgencyType|City|State|Year|Month|Incident|CrimeType|CrimeSolved|VictimSex|VictimAge|VictimRace|VictimEthnicity|PerpetratorSex|PerpetratorAge|PerpetratorRace|PerpetratorEthnicity|Relationship|Weapon|VictimCount|PerpetratorCount|RecordSource|\n",
      "+--------+----------+----------+----------+----+-----+----+-----+--------+---------+-----------+---------+---------+----------+---------------+--------------+--------------+---------------+--------------------+------------+------+-----------+----------------+------------+\n",
      "|       0|         0|         0|         0|   0|    0|   0|    0|       0|        0|          0|        0|        0|         0|              0|             0|             0|              0|                   0|           0|     0|          0|               0|           0|\n",
      "+--------+----------+----------+----------+----+-----+----+-----+--------+---------+-----------+---------+---------+----------+---------------+--------------+--------------+---------------+--------------------+------------+------+-----------+----------------+------------+\n",
      "\n"
     ]
    }
   ],
   "source": [
    "# Count null values in each column\n",
    "df.select([count(when(col(c).isNull(), c)).alias(c) for c in df.columns]).show()"
   ]
  },
  {
   "cell_type": "markdown",
   "metadata": {},
   "source": [
    "# Queries"
   ]
  },
  {
   "cell_type": "markdown",
   "metadata": {},
   "source": [
    "### 1. Which are the 5 states with higher number of unsolved crimes"
   ]
  },
  {
   "cell_type": "code",
   "execution_count": 28,
   "metadata": {},
   "outputs": [],
   "source": [
    "unsolvedCrimesPerState = df.where(df.CrimeSolved == 'No').groupBy(\"State\").count().sort(F.desc(\"count\")).limit(5)\n",
    "unsolvedCrimesPerState.toPandas().to_csv(path_or_buf=f\"{outputDir}/1_unsolvedCrimesPerState.csv\")\n",
    "#unsolvedCrimesPerState.write.csv(f\"{outputDir}/unsolvedCrimesPerState.csv\", mode=\"overwrite\", header=True)"
   ]
  },
  {
   "cell_type": "markdown",
   "metadata": {},
   "source": [
    "### 2. Which has been the most violent years of the 21st century"
   ]
  },
  {
   "cell_type": "code",
   "execution_count": 18,
   "metadata": {},
   "outputs": [],
   "source": [
    "columnToNumber = udf(lambda x: int(x), IntegerType())\n",
    "df = df.withColumn(\"Year\", columnToNumber(\"Year\"))\n",
    "mostViolentYear21thCentury = df.where(df.Year >= 2000).groupBy(\"Year\").count().withColumnRenamed(\"count\", \"Count\").sort(F.desc(\"Count\")).limit(5)\n",
    "mostViolentYear21thCentury.toPandas().to_csv(path_or_buf=f\"{outputDir}/2_mostViolentYear21thCentury.csv\")\n",
    "#mostViolentYear21thCentury.write.csv(f\"{outputDir}/mostViolentYear21thCentury.csv\", mode=\"overwrite\", header=True)"
   ]
  },
  {
   "cell_type": "markdown",
   "metadata": {},
   "source": [
    "### 3. Number of crimes per gender"
   ]
  },
  {
   "cell_type": "code",
   "execution_count": 17,
   "metadata": {},
   "outputs": [],
   "source": [
    "crimesPerGender = df.groupBy(\"VictimSex\").count().withColumnRenamed(\"count\", \"Count\").sort(F.desc(\"Count\"))\n",
    "crimesPerGender.toPandas().to_csv(path_or_buf=f\"{outputDir}/3_crimesPerGender.csv\")"
   ]
  },
  {
   "cell_type": "markdown",
   "metadata": {},
   "source": [
    "### 4. Which was the most violent month of each year"
   ]
  },
  {
   "cell_type": "code",
   "execution_count": 21,
   "metadata": {},
   "outputs": [],
   "source": [
    "yearMonth = df.select(df.Year, df.Month).groupBy(df.Year, df.Month).count().withColumnRenamed(\"count\", \"Count\").sort(df.Year)\n",
    "\n",
    "agg = yearMonth.groupBy(yearMonth.Year).agg(F.max(yearMonth.Count)).withColumnRenamed(\"max(Count)\", \"Crimes\")\n",
    "\n",
    "mostViolentMonthPerYear = agg.join(yearMonth, [agg.Crimes == yearMonth.Count, agg.Year == yearMonth.Year], 'inner').select(agg.Year, yearMonth.Month, agg.Crimes)\n",
    "\n",
    "mostViolentMonthPerYear.toPandas().to_csv(path_or_buf=f\"{outputDir}/4_mostViolentMonthPerYear.csv\")"
   ]
  },
  {
   "cell_type": "markdown",
   "metadata": {},
   "source": [
    "### 5. Number of crimes against minors and percentage over total crimes per year"
   ]
  },
  {
   "cell_type": "code",
   "execution_count": 22,
   "metadata": {},
   "outputs": [],
   "source": [
    "df = df.withColumn(\"VictimAge\", columnToNumber(df.VictimAge))\n",
    "\n",
    "crimeMinors = df.where(df.VictimAge <= 18).groupBy(df.Year).agg(F.count(F.lit(1)).alias(\"CrimesMinors\"))\n",
    "\n",
    "totalCrimes = df.groupBy(df.Year).agg(F.count(F.lit(1)).alias(\"TotalCrimes\"))\n",
    "\n",
    "crimesAgainstMinors = crimeMinors.join(totalCrimes, crimeMinors.Year == totalCrimes.Year, 'inner') \\\n",
    "    .select(crimeMinors.Year, crimeMinors.CrimesMinors, totalCrimes.TotalCrimes, \\\n",
    "    ((crimeMinors.CrimesMinors * 100) / totalCrimes.TotalCrimes).alias(\"PercentageOverTotal\")) \\\n",
    "    .sort(F.desc(\"Year\"))\n",
    "\n",
    "crimesAgainstMinors.toPandas().to_csv(path_or_buf=f\"{outputDir}/5_crimesAgainstMinors.csv\")"
   ]
  },
  {
   "cell_type": "markdown",
   "metadata": {},
   "source": [
    "### 6. State with most number of murders with explosives"
   ]
  },
  {
   "cell_type": "code",
   "execution_count": 23,
   "metadata": {},
   "outputs": [],
   "source": [
    "stateExplosives = df.where(df.Weapon == \"Explosives\").groupBy(df.State).count().sort(F.desc(\"count\")).limit(5)\n",
    "stateExplosives.toPandas().to_csv(path_or_buf=f\"{outputDir}/6_stateExplosives.csv\")\n",
    "# Oklahoma may need more agressive explosive regulations xd"
   ]
  },
  {
   "cell_type": "markdown",
   "metadata": {},
   "source": [
    "### 7. Which States are Best at Solving Murders?"
   ]
  },
  {
   "cell_type": "code",
   "execution_count": 24,
   "metadata": {},
   "outputs": [],
   "source": [
    "stateSolvedCrimes = df.where(df.CrimeSolved == 'Yes').groupBy(\"State\").count().sort(F.desc(\"count\")).limit(5)\n",
    "stateSolvedCrimes.toPandas().to_csv(path_or_buf=f\"{outputDir}/7_stateSolvedCrimes.csv\")"
   ]
  },
  {
   "cell_type": "markdown",
   "metadata": {},
   "source": [
    "### 8. Does Victim Race Affect Whether a Murder is Solved? 🤔"
   ]
  },
  {
   "cell_type": "code",
   "execution_count": 25,
   "metadata": {},
   "outputs": [],
   "source": [
    "unsolvedByRace = df.where(df.CrimeSolved == 'No').groupBy(\"victimRace\").count().sort(F.desc(\"count\")).limit(5)\n",
    "unsolvedByRace.toPandas().to_csv(path_or_buf=f\"{outputDir}/8_unsolvedByRace.csv\")"
   ]
  },
  {
   "cell_type": "markdown",
   "metadata": {},
   "source": [
    "### 9. Can We Predict the Age of a Killer?"
   ]
  },
  {
   "cell_type": "code",
   "execution_count": 26,
   "metadata": {},
   "outputs": [],
   "source": [
    "def ageRange(age):\n",
    "    if(age > 0 and age <= 10):\n",
    "        return \"0-10\"\n",
    "    elif(age > 10 and age <= 20):\n",
    "        return \"11-20\"\n",
    "    elif(age > 20 and age <= 30):\n",
    "        return \"21-30\"\n",
    "    elif(age > 30 and age <= 40):\n",
    "        return \"31-40\"\n",
    "    elif(age > 40 and age <= 50):\n",
    "        return \"41-50\"   \n",
    "    elif(age > 50 and age <= 60):\n",
    "        return \"51-60\"\n",
    "    elif(age > 60 and age <= 70):\n",
    "        return \"61-70\"\n",
    "    elif(age > 70):\n",
    "        return \"71-99\"\n",
    "    else:\n",
    "        return \"Unknown\"\n",
    "           \n",
    "df = df.withColumn(\"PerpetratorAge\", columnToNumber(df.VictimAge))\n",
    "ageRangeUDF = udf(ageRange)\n",
    "crimesByPerpetratorAgeRange = df.withColumn(\"PerpetratorAgeRange\", ageRangeUDF(df.PerpetratorAge)).groupBy(\"PerpetratorAgeRange\").agg(count(F.lit(1)).alias(\"Crimes\")).sort(col(\"Crimes\").desc())\n",
    "crimesByPerpetratorAgeRange.toPandas().to_csv(path_or_buf=f\"{outputDir}/9_crimesByPerpetratorAgeRange.csv\")"
   ]
  },
  {
   "cell_type": "markdown",
   "metadata": {},
   "source": [
    "### 10. What about the races of the most violent age range... 🤔"
   ]
  },
  {
   "cell_type": "code",
   "execution_count": 27,
   "metadata": {},
   "outputs": [],
   "source": [
    "mostViolentRaceByAgeRange = df.withColumn(\"PerpetratorAgeRange\", ageRangeUDF(df.PerpetratorAge)).where(col(\"PerpetratorAgeRange\") == \"21-30\").groupBy(df.PerpetratorRace).count().sort(F.desc(\"count\"))\n",
    "mostViolentRaceByAgeRange.toPandas().to_csv(path_or_buf=f\"{outputDir}/10_mostViolentRaceByAgeRange.csv\")"
   ]
  },
  {
   "cell_type": "code",
   "execution_count": null,
   "metadata": {},
   "outputs": [],
   "source": []
  }
 ],
 "metadata": {
  "kernelspec": {
   "display_name": "Python 3",
   "language": "python",
   "name": "python3"
  },
  "language_info": {
   "codemirror_mode": {
    "name": "ipython",
    "version": 3
   },
   "file_extension": ".py",
   "mimetype": "text/x-python",
   "name": "python",
   "nbconvert_exporter": "python",
   "pygments_lexer": "ipython3",
   "version": "3.7.4"
  }
 },
 "nbformat": 4,
 "nbformat_minor": 4
}
