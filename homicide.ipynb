{
 "cells": [
  {
   "cell_type": "code",
   "execution_count": 2,
   "metadata": {},
   "outputs": [],
   "source": [
    "from pyspark.sql import SparkSession\n",
    "\n",
    "import matplotlib.pyplot as plt\n",
    "\n",
    "from pyspark.sql import functions as F\n",
    "from pyspark.sql.functions import isnan, when, count, col\n",
    "\n",
    "spark = SparkSession.builder.appName(\"Wrangling Data\").getOrCreate()\n",
    "sc = spark.sparkContext"
   ]
  },
  {
   "cell_type": "code",
   "execution_count": 3,
   "metadata": {},
   "outputs": [
    {
     "data": {
      "text/plain": [
       "[0, 1, 4, 9, 16, 25, 36, 49, 64, 81]"
      ]
     },
     "execution_count": 3,
     "metadata": {},
     "output_type": "execute_result"
    }
   ],
   "source": [
    "spark.sparkContext.parallelize(range(1000)).map(lambda x: x*x).take(10)"
   ]
  },
  {
   "cell_type": "code",
   "execution_count": 8,
   "metadata": {},
   "outputs": [],
   "source": [
    "# https://www.kaggle.com/murderaccountability/homicide-reports/data\n",
    "df = spark.read.csv(\"./database.csv\", header=True)"
   ]
  },
  {
   "cell_type": "code",
   "execution_count": 5,
   "metadata": {},
   "outputs": [
    {
     "name": "stdout",
     "output_type": "stream",
     "text": [
      "root\n",
      " |-- Record ID: string (nullable = true)\n",
      " |-- Agency Code: string (nullable = true)\n",
      " |-- Agency Name: string (nullable = true)\n",
      " |-- Agency Type: string (nullable = true)\n",
      " |-- City: string (nullable = true)\n",
      " |-- State: string (nullable = true)\n",
      " |-- Year: string (nullable = true)\n",
      " |-- Month: string (nullable = true)\n",
      " |-- Incident: string (nullable = true)\n",
      " |-- Crime Type: string (nullable = true)\n",
      " |-- Crime Solved: string (nullable = true)\n",
      " |-- Victim Sex: string (nullable = true)\n",
      " |-- Victim Age: string (nullable = true)\n",
      " |-- Victim Race: string (nullable = true)\n",
      " |-- Victim Ethnicity: string (nullable = true)\n",
      " |-- Perpetrator Sex: string (nullable = true)\n",
      " |-- Perpetrator Age: string (nullable = true)\n",
      " |-- Perpetrator Race: string (nullable = true)\n",
      " |-- Perpetrator Ethnicity: string (nullable = true)\n",
      " |-- Relationship: string (nullable = true)\n",
      " |-- Weapon: string (nullable = true)\n",
      " |-- Victim Count: string (nullable = true)\n",
      " |-- Perpetrator Count: string (nullable = true)\n",
      " |-- Record Source: string (nullable = true)\n",
      "\n"
     ]
    },
    {
     "data": {
      "text/plain": [
       "Row(Record ID='000001', Agency Code='AK00101', Agency Name='Anchorage', Agency Type='Municipal Police', City='Anchorage', State='Alaska', Year='1980', Month='January', Incident='1', Crime Type='Murder or Manslaughter', Crime Solved='Yes', Victim Sex='Male', Victim Age='14', Victim Race='Native American/Alaska Native', Victim Ethnicity='Unknown', Perpetrator Sex='Male', Perpetrator Age='15', Perpetrator Race='Native American/Alaska Native', Perpetrator Ethnicity='Unknown', Relationship='Acquaintance', Weapon='Blunt Object', Victim Count='0', Perpetrator Count='0', Record Source='FBI')"
      ]
     },
     "execution_count": 5,
     "metadata": {},
     "output_type": "execute_result"
    }
   ],
   "source": [
    "df.printSchema()\n",
    "df.head()"
   ]
  },
  {
   "cell_type": "code",
   "execution_count": 6,
   "metadata": {},
   "outputs": [
    {
     "name": "stdout",
     "output_type": "stream",
     "text": [
      "+---------+-----------+-----------+-----------+----+-----+----+-----+--------+----------+------------+----------+----------+-----------+----------------+---------------+---------------+----------------+---------------------+------------+------+------------+-----------------+-------------+\n",
      "|Record ID|Agency Code|Agency Name|Agency Type|City|State|Year|Month|Incident|Crime Type|Crime Solved|Victim Sex|Victim Age|Victim Race|Victim Ethnicity|Perpetrator Sex|Perpetrator Age|Perpetrator Race|Perpetrator Ethnicity|Relationship|Weapon|Victim Count|Perpetrator Count|Record Source|\n",
      "+---------+-----------+-----------+-----------+----+-----+----+-----+--------+----------+------------+----------+----------+-----------+----------------+---------------+---------------+----------------+---------------------+------------+------+------------+-----------------+-------------+\n",
      "|        0|          0|          0|          0|   0|    0|   0|    0|       0|         0|           0|         0|         0|          0|               0|              0|              0|               0|                    0|           0|     0|           0|                0|            0|\n",
      "+---------+-----------+-----------+-----------+----+-----+----+-----+--------+----------+------------+----------+----------+-----------+----------------+---------------+---------------+----------------+---------------------+------------+------+------------+-----------------+-------------+\n",
      "\n"
     ]
    }
   ],
   "source": [
    "# Count null values in each column\n",
    "df.select([count(when(col(c).isNull(), c)).alias(c) for c in df.columns]).show()"
   ]
  },
  {
   "cell_type": "code",
   "execution_count": 7,
   "metadata": {},
   "outputs": [
    {
     "name": "stdout",
     "output_type": "stream",
     "text": [
      "+---------+-----------+-----------+-----------+----+-----+----+-----+--------+----------+------------+----------+----------+-----------+----------------+---------------+---------------+----------------+---------------------+------------+------+------------+-----------------+-------------+\n",
      "|Record ID|Agency Code|Agency Name|Agency Type|City|State|Year|Month|Incident|Crime Type|Crime Solved|Victim Sex|Victim Age|Victim Race|Victim Ethnicity|Perpetrator Sex|Perpetrator Age|Perpetrator Race|Perpetrator Ethnicity|Relationship|Weapon|Victim Count|Perpetrator Count|Record Source|\n",
      "+---------+-----------+-----------+-----------+----+-----+----+-----+--------+----------+------------+----------+----------+-----------+----------------+---------------+---------------+----------------+---------------------+------------+------+------------+-----------------+-------------+\n",
      "|        0|          0|          0|          0|   0|    0|   0|    0|       0|         0|           0|         0|         0|          0|               0|              0|              1|               0|                    0|           0|     0|           0|                0|            0|\n",
      "+---------+-----------+-----------+-----------+----+-----+----+-----+--------+----------+------------+----------+----------+-----------+----------------+---------------+---------------+----------------+---------------------+------------+------+------------+-----------------+-------------+\n",
      "\n",
      "+---------+-----------+-----------+----------------+-----+--------+----+-----+--------+--------------------+------------+----------+----------+-----------+----------------+---------------+---------------+----------------+---------------------+------------+-------+------------+-----------------+-------------+\n",
      "|Record ID|Agency Code|Agency Name|     Agency Type| City|   State|Year|Month|Incident|          Crime Type|Crime Solved|Victim Sex|Victim Age|Victim Race|Victim Ethnicity|Perpetrator Sex|Perpetrator Age|Perpetrator Race|Perpetrator Ethnicity|Relationship| Weapon|Victim Count|Perpetrator Count|Record Source|\n",
      "+---------+-----------+-----------+----------------+-----+--------+----+-----+--------+--------------------+------------+----------+----------+-----------+----------------+---------------+---------------+----------------+---------------------+------------+-------+------------+-----------------+-------------+\n",
      "|   634667|    OK07205|      Tulsa|Municipal Police|Tulsa|Oklahoma|2014| June|     104|Murder or Manslau...|          No|      Male|        46|      Black|    Not Hispanic|        Unknown|               |         Unknown|              Unknown|     Unknown|Handgun|           0|                0|          FBI|\n",
      "+---------+-----------+-----------+----------------+-----+--------+----+-----+--------+--------------------+------------+----------+----------+-----------+----------------+---------------+---------------+----------------+---------------------+------------+-------+------------+-----------------+-------------+\n",
      "\n"
     ]
    }
   ],
   "source": [
    "# count white space in each column\n",
    "df.select([count(when(col(c).rlike('^\\\\s+$'), c)) .alias(c) for c in df.columns]).show()\n",
    "df.where(col(\"Perpetrator Age\").rlike('^\\\\s+$')).show()"
   ]
  },
  {
   "cell_type": "code",
   "execution_count": 32,
   "metadata": {},
   "outputs": [
    {
     "data": {
      "text/plain": [
       "[Row(Year='1980', count=23092),\n",
       " Row(Year='1981', count=21208),\n",
       " Row(Year='1982', count=20544),\n",
       " Row(Year='1983', count=19653),\n",
       " Row(Year='1984', count=18093)]"
      ]
     },
     "execution_count": 32,
     "metadata": {},
     "output_type": "execute_result"
    }
   ],
   "source": [
    "df.groupBy(\"Year\").count().sort(\"Year\").take(5)"
   ]
  },
  {
   "cell_type": "code",
   "execution_count": 46,
   "metadata": {},
   "outputs": [
    {
     "data": {
      "text/plain": [
       "[Row(Victim Sex='Female', count=143345),\n",
       " Row(Victim Sex='Unknown', count=984),\n",
       " Row(Victim Sex='Male', count=494125)]"
      ]
     },
     "execution_count": 46,
     "metadata": {},
     "output_type": "execute_result"
    }
   ],
   "source": [
    "df.groupBy(\"Victim Sex\").count().take(10)"
   ]
  },
  {
   "cell_type": "code",
   "execution_count": 28,
   "metadata": {},
   "outputs": [
    {
     "name": "stdout",
     "output_type": "stream",
     "text": [
      "+-------+-----------------+\n",
      "|summary|             Year|\n",
      "+-------+-----------------+\n",
      "|  count|           638454|\n",
      "|   mean|1995.801102350365|\n",
      "| stddev| 9.92769331398824|\n",
      "|    min|             1980|\n",
      "|    max|             2014|\n",
      "+-------+-----------------+\n",
      "\n"
     ]
    }
   ],
   "source": [
    "df.describe(\"Year\").show()"
   ]
  },
  {
   "cell_type": "code",
   "execution_count": 44,
   "metadata": {},
   "outputs": [],
   "source": [
    "years = df.groupBy(\"Year\").count().sort(\"Year\").toPandas()"
   ]
  },
  {
   "cell_type": "code",
   "execution_count": 43,
   "metadata": {},
   "outputs": [
    {
     "data": {
      "text/plain": [
       "<matplotlib.collections.PathCollection at 0x2c9342d9448>"
      ]
     },
     "execution_count": 43,
     "metadata": {},
     "output_type": "execute_result"
    },
    {
     "data": {
      "image/png": "[encoded data removed]",
      "text/plain": [
       "<Figure size 432x288 with 1 Axes>"
      ]
     },
     "metadata": {
      "needs_background": "light"
     },
     "output_type": "display_data"
    }
   ],
   "source": [
    "plt.scatter(years[\"count\"], years.Year)"
   ]
  },
  {
   "cell_type": "code",
   "execution_count": 55,
   "metadata": {},
   "outputs": [
    {
     "data": {
      "text/plain": [
       "[]"
      ]
     },
     "execution_count": 55,
     "metadata": {},
     "output_type": "execute_result"
    }
   ],
   "source": []
  },
  {
   "cell_type": "code",
   "execution_count": 53,
   "metadata": {},
   "outputs": [
    {
     "data": {
      "text/plain": [
       "[Row(Crime Solved='No'), Row(Crime Solved='Yes')]"
      ]
     },
     "execution_count": 53,
     "metadata": {},
     "output_type": "execute_result"
    }
   ],
   "source": [
    "df.select(\"Crime Solved\").dropDuplicates().collect()"
   ]
  },
  {
   "cell_type": "code",
   "execution_count": null,
   "metadata": {},
   "outputs": [],
   "source": []
  }
 ],
 "metadata": {
  "kernelspec": {
   "display_name": "Python 3",
   "language": "python",
   "name": "python3"
  },
  "language_info": {
   "codemirror_mode": {
    "name": "ipython",
    "version": 3
   },
   "file_extension": ".py",
   "mimetype": "text/x-python",
   "name": "python",
   "nbconvert_exporter": "python",
   "pygments_lexer": "ipython3",
   "version": "3.7.4"
  }
 },
 "nbformat": 4,
 "nbformat_minor": 4
}
