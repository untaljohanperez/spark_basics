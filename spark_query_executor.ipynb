{
 "cells": [
  {
   "cell_type": "code",
   "execution_count": 7,
   "metadata": {},
   "outputs": [],
   "source": [
    "from pyspark.sql import SparkSession\n",
    "\n",
    "import sys\n",
    "import pandas as pd\n",
    "from functools import reduce\n",
    "from pyspark.sql.functions import udf, broadcast\n",
    "\n",
    "spark = SparkSession.builder.appName(\"QueryExecutor\").getOrCreate()\n",
    "sc = spark.sparkContext"
   ]
  },
  {
   "cell_type": "code",
   "execution_count": 2,
   "metadata": {},
   "outputs": [],
   "source": [
    "queryPath = \"./query.sql\"\n",
    "outputFile = \"./result.csv\""
   ]
  },
  {
   "cell_type": "code",
   "execution_count": 26,
   "metadata": {},
   "outputs": [],
   "source": [
    "df = spark.read.csv(\"./database.csv\", header=True)\n",
    "columnsRenamed = [ (c, c.replace(\" \", \"\")) for c in df.columns]\n",
    "df = reduce(lambda df, c: df.withColumnRenamed(c[0], c[1]), columnsRenamed, df)"
   ]
  },
  {
   "cell_type": "code",
   "execution_count": 27,
   "metadata": {},
   "outputs": [],
   "source": [
    "states = spark.read.csv(\"./state_codes.csv\", header=True)\n",
    "df = df.join(broadcast(states), df.State == states.State, \"left_outer\").drop(\"State\").withColumnRenamed(\"Abbreviation\", \"State\")"
   ]
  },
  {
   "cell_type": "code",
   "execution_count": 28,
   "metadata": {},
   "outputs": [
    {
     "data": {
      "text/plain": [
       "[Row(State='AZ'),\n",
       " Row(State='SC'),\n",
       " Row(State='LA'),\n",
       " Row(State='MN'),\n",
       " Row(State='NJ'),\n",
       " Row(State='DC'),\n",
       " Row(State='OR'),\n",
       " Row(State=None),\n",
       " Row(State='VA'),\n",
       " Row(State='KY'),\n",
       " Row(State='WY'),\n",
       " Row(State='NH'),\n",
       " Row(State='MI'),\n",
       " Row(State='NV'),\n",
       " Row(State='WI'),\n",
       " Row(State='ID'),\n",
       " Row(State='CA'),\n",
       " Row(State='CT'),\n",
       " Row(State='NE'),\n",
       " Row(State='MT'),\n",
       " Row(State='NC'),\n",
       " Row(State='VT'),\n",
       " Row(State='MD'),\n",
       " Row(State='DE'),\n",
       " Row(State='MO'),\n",
       " Row(State='IL'),\n",
       " Row(State='ME'),\n",
       " Row(State='ND'),\n",
       " Row(State='WA'),\n",
       " Row(State='MS'),\n",
       " Row(State='AL'),\n",
       " Row(State='IN'),\n",
       " Row(State='OH'),\n",
       " Row(State='TN'),\n",
       " Row(State='IA'),\n",
       " Row(State='NM'),\n",
       " Row(State='PA'),\n",
       " Row(State='SD'),\n",
       " Row(State='NY'),\n",
       " Row(State='TX'),\n",
       " Row(State='WV'),\n",
       " Row(State='GA'),\n",
       " Row(State='MA'),\n",
       " Row(State='KS'),\n",
       " Row(State='CO'),\n",
       " Row(State='FL'),\n",
       " Row(State='AK'),\n",
       " Row(State='AR'),\n",
       " Row(State='OK'),\n",
       " Row(State='UT'),\n",
       " Row(State='HI')]"
      ]
     },
     "execution_count": 28,
     "metadata": {},
     "output_type": "execute_result"
    }
   ],
   "source": [
    "df.select(\"State\").dropDuplicates().collect()"
   ]
  },
  {
   "cell_type": "code",
   "execution_count": 29,
   "metadata": {},
   "outputs": [],
   "source": [
    "df.createOrReplaceTempView(\"homicides\")"
   ]
  },
  {
   "cell_type": "code",
   "execution_count": 30,
   "metadata": {},
   "outputs": [
    {
     "data": {
      "text/plain": [
       "'select state, count(1) as count from homicides group by state'"
      ]
     },
     "execution_count": 30,
     "metadata": {},
     "output_type": "execute_result"
    }
   ],
   "source": [
    "file = open(queryPath, \"r\")\n",
    "query = file.read()\n",
    "file.close()\n",
    "query = query.replace(\"\\n\", \" \")\n",
    "query"
   ]
  },
  {
   "cell_type": "code",
   "execution_count": 31,
   "metadata": {},
   "outputs": [
    {
     "data": {
      "text/plain": [
       "[Row(state='AZ', count=12871),\n",
       " Row(state='SC', count=11698),\n",
       " Row(state='LA', count=19629),\n",
       " Row(state='MN', count=3975),\n",
       " Row(state='NJ', count=14132),\n",
       " Row(state='DC', count=7115),\n",
       " Row(state='OR', count=4217),\n",
       " Row(state='VA', count=15520),\n",
       " Row(state=None, count=1211),\n",
       " Row(state='KY', count=6554),\n",
       " Row(state='WY', count=630),\n",
       " Row(state='NH', count=655),\n",
       " Row(state='MI', count=28448),\n",
       " Row(state='NV', count=5553),\n",
       " Row(state='WI', count=6191),\n",
       " Row(state='ID', count=1150),\n",
       " Row(state='CA', count=99783),\n",
       " Row(state='CT', count=4896),\n",
       " Row(state='NE', count=1331),\n",
       " Row(state='MT', count=601),\n",
       " Row(state='NC', count=20390),\n",
       " Row(state='VT', count=412),\n",
       " Row(state='MD', count=17312),\n",
       " Row(state='DE', count=1179),\n",
       " Row(state='MO', count=14832),\n",
       " Row(state='IL', count=25871),\n",
       " Row(state='ME', count=869),\n",
       " Row(state='ND', count=308),\n",
       " Row(state='WA', count=7815),\n",
       " Row(state='MS', count=6546),\n",
       " Row(state='AL', count=11376),\n",
       " Row(state='IN', count=11463),\n",
       " Row(state='OH', count=19158),\n",
       " Row(state='TN', count=14930),\n",
       " Row(state='IA', count=1749),\n",
       " Row(state='NM', count=4272),\n",
       " Row(state='PA', count=24236),\n",
       " Row(state='SD', count=442),\n",
       " Row(state='NY', count=49268),\n",
       " Row(state='TX', count=62095),\n",
       " Row(state='WV', count=3061),\n",
       " Row(state='GA', count=21088),\n",
       " Row(state='MA', count=6036),\n",
       " Row(state='KS', count=3085),\n",
       " Row(state='CO', count=6593),\n",
       " Row(state='FL', count=37164),\n",
       " Row(state='AK', count=1617),\n",
       " Row(state='AR', count=6947),\n",
       " Row(state='OK', count=8809),\n",
       " Row(state='UT', count=2033),\n",
       " Row(state='HI', count=1338)]"
      ]
     },
     "execution_count": 31,
     "metadata": {},
     "output_type": "execute_result"
    }
   ],
   "source": [
    "spark.sql(query).toPandas().to_csv(path_or_buf=outputFile)"
   ]
  },
  {
   "cell_type": "code",
   "execution_count": 41,
   "metadata": {},
   "outputs": [],
   "source": [
    "spark.stop()"
   ]
  },
  {
   "cell_type": "code",
   "execution_count": null,
   "metadata": {},
   "outputs": [],
   "source": []
  },
  {
   "cell_type": "code",
   "execution_count": null,
   "metadata": {},
   "outputs": [],
   "source": []
  }
 ],
 "metadata": {
  "kernelspec": {
   "display_name": "Python 3",
   "language": "python",
   "name": "python3"
  },
  "language_info": {
   "codemirror_mode": {
    "name": "ipython",
    "version": 3
   },
   "file_extension": ".py",
   "mimetype": "text/x-python",
   "name": "python",
   "nbconvert_exporter": "python",
   "pygments_lexer": "ipython3",
   "version": "3.7.4"
  }
 },
 "nbformat": 4,
 "nbformat_minor": 4
}
